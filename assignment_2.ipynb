{
 "cells": [
  {
   "cell_type": "code",
   "execution_count": 2,
   "id": "3c823a94",
   "metadata": {},
   "outputs": [],
   "source": [
    "import pandas as pd\n",
    "import numpy as np\n",
    "from sklearn import linear_model\n",
    "import matplotlib.pyplot as plt"
   ]
  },
  {
   "cell_type": "code",
   "execution_count": 3,
   "id": "11af0b1b",
   "metadata": {},
   "outputs": [
    {
     "data": {
      "text/html": [
       "<div>\n",
       "<style scoped>\n",
       "    .dataframe tbody tr th:only-of-type {\n",
       "        vertical-align: middle;\n",
       "    }\n",
       "\n",
       "    .dataframe tbody tr th {\n",
       "        vertical-align: top;\n",
       "    }\n",
       "\n",
       "    .dataframe thead th {\n",
       "        text-align: right;\n",
       "    }\n",
       "</style>\n",
       "<table border=\"1\" class=\"dataframe\">\n",
       "  <thead>\n",
       "    <tr style=\"text-align: right;\">\n",
       "      <th></th>\n",
       "      <th>YEAR</th>\n",
       "      <th>JAN</th>\n",
       "      <th>FEB</th>\n",
       "      <th>MAR</th>\n",
       "      <th>APR</th>\n",
       "      <th>MAY</th>\n",
       "      <th>JUN</th>\n",
       "      <th>JUL</th>\n",
       "      <th>AUG</th>\n",
       "      <th>SEP</th>\n",
       "      <th>OCT</th>\n",
       "      <th>NOV</th>\n",
       "      <th>DEC</th>\n",
       "      <th>ANNUAL</th>\n",
       "      <th>JAN-FEB</th>\n",
       "      <th>MAR-MAY</th>\n",
       "      <th>JUN-SEP</th>\n",
       "      <th>OCT-DEC</th>\n",
       "    </tr>\n",
       "  </thead>\n",
       "  <tbody>\n",
       "    <tr>\n",
       "      <th>0</th>\n",
       "      <td>1901</td>\n",
       "      <td>22.40</td>\n",
       "      <td>24.14</td>\n",
       "      <td>29.07</td>\n",
       "      <td>31.91</td>\n",
       "      <td>33.41</td>\n",
       "      <td>33.18</td>\n",
       "      <td>31.21</td>\n",
       "      <td>30.39</td>\n",
       "      <td>30.47</td>\n",
       "      <td>29.97</td>\n",
       "      <td>27.31</td>\n",
       "      <td>24.49</td>\n",
       "      <td>28.96</td>\n",
       "      <td>23.27</td>\n",
       "      <td>31.46</td>\n",
       "      <td>31.27</td>\n",
       "      <td>27.25</td>\n",
       "    </tr>\n",
       "    <tr>\n",
       "      <th>1</th>\n",
       "      <td>1902</td>\n",
       "      <td>24.93</td>\n",
       "      <td>26.58</td>\n",
       "      <td>29.77</td>\n",
       "      <td>31.78</td>\n",
       "      <td>33.73</td>\n",
       "      <td>32.91</td>\n",
       "      <td>30.92</td>\n",
       "      <td>30.73</td>\n",
       "      <td>29.80</td>\n",
       "      <td>29.12</td>\n",
       "      <td>26.31</td>\n",
       "      <td>24.04</td>\n",
       "      <td>29.22</td>\n",
       "      <td>25.75</td>\n",
       "      <td>31.76</td>\n",
       "      <td>31.09</td>\n",
       "      <td>26.49</td>\n",
       "    </tr>\n",
       "    <tr>\n",
       "      <th>2</th>\n",
       "      <td>1903</td>\n",
       "      <td>23.44</td>\n",
       "      <td>25.03</td>\n",
       "      <td>27.83</td>\n",
       "      <td>31.39</td>\n",
       "      <td>32.91</td>\n",
       "      <td>33.00</td>\n",
       "      <td>31.34</td>\n",
       "      <td>29.98</td>\n",
       "      <td>29.85</td>\n",
       "      <td>29.04</td>\n",
       "      <td>26.08</td>\n",
       "      <td>23.65</td>\n",
       "      <td>28.47</td>\n",
       "      <td>24.24</td>\n",
       "      <td>30.71</td>\n",
       "      <td>30.92</td>\n",
       "      <td>26.26</td>\n",
       "    </tr>\n",
       "    <tr>\n",
       "      <th>3</th>\n",
       "      <td>1904</td>\n",
       "      <td>22.50</td>\n",
       "      <td>24.73</td>\n",
       "      <td>28.21</td>\n",
       "      <td>32.02</td>\n",
       "      <td>32.64</td>\n",
       "      <td>32.07</td>\n",
       "      <td>30.36</td>\n",
       "      <td>30.09</td>\n",
       "      <td>30.04</td>\n",
       "      <td>29.20</td>\n",
       "      <td>26.36</td>\n",
       "      <td>23.63</td>\n",
       "      <td>28.49</td>\n",
       "      <td>23.62</td>\n",
       "      <td>30.95</td>\n",
       "      <td>30.66</td>\n",
       "      <td>26.40</td>\n",
       "    </tr>\n",
       "    <tr>\n",
       "      <th>4</th>\n",
       "      <td>1905</td>\n",
       "      <td>22.00</td>\n",
       "      <td>22.83</td>\n",
       "      <td>26.68</td>\n",
       "      <td>30.01</td>\n",
       "      <td>33.32</td>\n",
       "      <td>33.25</td>\n",
       "      <td>31.44</td>\n",
       "      <td>30.68</td>\n",
       "      <td>30.12</td>\n",
       "      <td>30.67</td>\n",
       "      <td>27.52</td>\n",
       "      <td>23.82</td>\n",
       "      <td>28.30</td>\n",
       "      <td>22.25</td>\n",
       "      <td>30.00</td>\n",
       "      <td>31.33</td>\n",
       "      <td>26.57</td>\n",
       "    </tr>\n",
       "  </tbody>\n",
       "</table>\n",
       "</div>"
      ],
      "text/plain": [
       "   YEAR    JAN    FEB    MAR    APR    MAY    JUN    JUL    AUG    SEP    OCT  \\\n",
       "0  1901  22.40  24.14  29.07  31.91  33.41  33.18  31.21  30.39  30.47  29.97   \n",
       "1  1902  24.93  26.58  29.77  31.78  33.73  32.91  30.92  30.73  29.80  29.12   \n",
       "2  1903  23.44  25.03  27.83  31.39  32.91  33.00  31.34  29.98  29.85  29.04   \n",
       "3  1904  22.50  24.73  28.21  32.02  32.64  32.07  30.36  30.09  30.04  29.20   \n",
       "4  1905  22.00  22.83  26.68  30.01  33.32  33.25  31.44  30.68  30.12  30.67   \n",
       "\n",
       "     NOV    DEC  ANNUAL  JAN-FEB  MAR-MAY  JUN-SEP  OCT-DEC  \n",
       "0  27.31  24.49   28.96    23.27    31.46    31.27    27.25  \n",
       "1  26.31  24.04   29.22    25.75    31.76    31.09    26.49  \n",
       "2  26.08  23.65   28.47    24.24    30.71    30.92    26.26  \n",
       "3  26.36  23.63   28.49    23.62    30.95    30.66    26.40  \n",
       "4  27.52  23.82   28.30    22.25    30.00    31.33    26.57  "
      ]
     },
     "execution_count": 3,
     "metadata": {},
     "output_type": "execute_result"
    }
   ],
   "source": [
    "df=pd.read_csv('Desktop/temperatures.csv')\n",
    "df.head()"
   ]
  },
  {
   "cell_type": "code",
   "execution_count": 4,
   "id": "e68c0abe",
   "metadata": {},
   "outputs": [],
   "source": [
    "reg=linear_model.LinearRegression()\n"
   ]
  },
  {
   "cell_type": "code",
   "execution_count": 5,
   "id": "8d252b38",
   "metadata": {},
   "outputs": [
    {
     "data": {
      "text/plain": [
       "LinearRegression()"
      ]
     },
     "execution_count": 5,
     "metadata": {},
     "output_type": "execute_result"
    }
   ],
   "source": [
    "reg.fit(df[['YEAR']],df.JAN)"
   ]
  },
  {
   "cell_type": "code",
   "execution_count": null,
   "id": "0bd1128e",
   "metadata": {},
   "outputs": [],
   "source": []
  },
  {
   "cell_type": "code",
   "execution_count": null,
   "id": "b73d64f1",
   "metadata": {},
   "outputs": [],
   "source": []
  },
  {
   "cell_type": "code",
   "execution_count": 6,
   "id": "2e94e64a",
   "metadata": {},
   "outputs": [],
   "source": [
    "jan=reg.predict([[2024]])"
   ]
  },
  {
   "cell_type": "code",
   "execution_count": 7,
   "id": "a7062f6b",
   "metadata": {},
   "outputs": [],
   "source": [
    "reg.fit(df[['YEAR']],df.FEB)\n",
    "feb=reg.predict([[2024]])"
   ]
  },
  {
   "cell_type": "code",
   "execution_count": 8,
   "id": "8406471c",
   "metadata": {},
   "outputs": [],
   "source": [
    "reg.fit(df[['YEAR']],df.MAR)\n",
    "march=reg.predict([[2024]])"
   ]
  },
  {
   "cell_type": "code",
   "execution_count": 9,
   "id": "96aaaa13",
   "metadata": {},
   "outputs": [],
   "source": [
    "reg.fit(df[['YEAR']],df.APR)\n",
    "april=reg.predict([[2024]])"
   ]
  },
  {
   "cell_type": "code",
   "execution_count": 10,
   "id": "d0f5aa83",
   "metadata": {},
   "outputs": [],
   "source": [
    "reg.fit(df[['YEAR']],df.MAY)\n",
    "may=reg.predict([[2024]])"
   ]
  },
  {
   "cell_type": "code",
   "execution_count": 11,
   "id": "918f45f7",
   "metadata": {},
   "outputs": [],
   "source": [
    "reg.fit(df[['YEAR']],df.JUN)\n",
    "june=reg.predict([[2024]])"
   ]
  },
  {
   "cell_type": "code",
   "execution_count": 12,
   "id": "ea2d61d8",
   "metadata": {},
   "outputs": [],
   "source": [
    "reg.fit(df[['YEAR']],df.JUL)\n",
    "july=reg.predict([[2024]])"
   ]
  },
  {
   "cell_type": "code",
   "execution_count": 13,
   "id": "293f0cd3",
   "metadata": {},
   "outputs": [],
   "source": [
    "reg.fit(df[['YEAR']],df.AUG)\n",
    "august=reg.predict([[2024]])"
   ]
  },
  {
   "cell_type": "code",
   "execution_count": 14,
   "id": "f1066fbd",
   "metadata": {},
   "outputs": [],
   "source": [
    "reg.fit(df[['YEAR']],df.SEP)\n",
    "september=reg.predict([[2024]])"
   ]
  },
  {
   "cell_type": "code",
   "execution_count": 15,
   "id": "4c9828e7",
   "metadata": {},
   "outputs": [],
   "source": [
    "reg.fit(df[['YEAR']],df.OCT)\n",
    "october=reg.predict([[2024]])"
   ]
  },
  {
   "cell_type": "code",
   "execution_count": 16,
   "id": "f34f7d85",
   "metadata": {},
   "outputs": [],
   "source": [
    "reg.fit(df[['YEAR']],df.NOV)\n",
    "november=reg.predict([[2024]])"
   ]
  },
  {
   "cell_type": "code",
   "execution_count": 17,
   "id": "194ef906",
   "metadata": {},
   "outputs": [],
   "source": [
    "reg.fit(df[['YEAR']],df.DEC)\n",
    "december=reg.predict([[2024]])"
   ]
  },
  {
   "cell_type": "code",
   "execution_count": 18,
   "id": "3ecc444b",
   "metadata": {},
   "outputs": [
    {
     "data": {
      "text/plain": [
       "array([30.03062804])"
      ]
     },
     "execution_count": 18,
     "metadata": {},
     "output_type": "execute_result"
    }
   ],
   "source": [
    "annual_temp=(jan+feb+march+april+may+june+july+august+september+october+november+december)/12\n",
    "annual_temp"
   ]
  },
  {
   "cell_type": "code",
   "execution_count": 19,
   "id": "04299919",
   "metadata": {},
   "outputs": [
    {
     "data": {
      "text/plain": [
       "LinearRegression()"
      ]
     },
     "execution_count": 19,
     "metadata": {},
     "output_type": "execute_result"
    }
   ],
   "source": [
    "reg.fit(df[['YEAR']],df.ANNUAL)"
   ]
  },
  {
   "cell_type": "code",
   "execution_count": 20,
   "id": "ef1447f6",
   "metadata": {},
   "outputs": [
    {
     "data": {
      "text/plain": [
       "array([30.03427031])"
      ]
     },
     "execution_count": 20,
     "metadata": {},
     "output_type": "execute_result"
    }
   ],
   "source": [
    "reg.predict([[2024]])"
   ]
  },
  {
   "cell_type": "code",
   "execution_count": 41,
   "id": "1503a96c",
   "metadata": {},
   "outputs": [
    {
     "name": "stdout",
     "output_type": "stream",
     "text": [
      "MAE 1929.8186324786325\n"
     ]
    }
   ],
   "source": [
    "from sklearn.metrics import mean_absolute_error\n",
    "print(\"MAE\",mean_absolute_error(df['YEAR'],df['ANNUAL']))"
   ]
  },
  {
   "cell_type": "code",
   "execution_count": 42,
   "id": "4ee334d6",
   "metadata": {},
   "outputs": [
    {
     "name": "stdout",
     "output_type": "stream",
     "text": [
      "MSE 3725310.992230769\n"
     ]
    }
   ],
   "source": [
    "from sklearn.metrics import mean_squared_error\n",
    "print(\"MSE\",mean_squared_error(df['YEAR'],df['ANNUAL']))"
   ]
  },
  {
   "cell_type": "code",
   "execution_count": 43,
   "id": "f36340b4",
   "metadata": {},
   "outputs": [
    {
     "name": "stdout",
     "output_type": "stream",
     "text": [
      "RMSE 1930.1064717343363\n"
     ]
    }
   ],
   "source": [
    "print(\"RMSE\",np.sqrt(mean_squared_error(df['YEAR'],df['ANNUAL'])))"
   ]
  },
  {
   "cell_type": "code",
   "execution_count": 44,
   "id": "33e90883",
   "metadata": {},
   "outputs": [
    {
     "name": "stdout",
     "output_type": "stream",
     "text": [
      "RMSE 7.565330447079034\n"
     ]
    }
   ],
   "source": [
    "print(\"RMSE\",np.log(np.sqrt(mean_squared_error(df['YEAR'],df['ANNUAL']))))"
   ]
  },
  {
   "cell_type": "code",
   "execution_count": 45,
   "id": "7932ae7b",
   "metadata": {},
   "outputs": [
    {
     "name": "stdout",
     "output_type": "stream",
     "text": [
      "-3264.906772849885\n"
     ]
    }
   ],
   "source": [
    "from sklearn.metrics import r2_score\n",
    "r2 = r2_score(df['YEAR'],df['ANNUAL'])\n",
    "print(r2)"
   ]
  },
  {
   "cell_type": "code",
   "execution_count": 23,
   "id": "9dd576eb",
   "metadata": {},
   "outputs": [
    {
     "data": {
      "text/plain": [
       "Text(0.5, 1.0, 'ANNUAL TEMP DATA')"
      ]
     },
     "execution_count": 23,
     "metadata": {},
     "output_type": "execute_result"
    },
    {
     "data": {
      "image/png": "[encoded data removed]",
      "text/plain": [
       "<Figure size 432x288 with 1 Axes>"
      ]
     },
     "metadata": {
      "needs_background": "light"
     },
     "output_type": "display_data"
    }
   ],
   "source": [
    "%matplotlib inline\n",
    "\n",
    "plt.scatter(df['YEAR'],df['ANNUAL'],linewidth=4)\n",
    "plt.xlabel(\"YEARS\")\n",
    "plt.ylabel(\"ANNUAL TEMP\")\n",
    "plt.title('ANNUAL TEMP DATA')"
   ]
  },
  {
   "cell_type": "code",
   "execution_count": 39,
   "id": "544299f9",
   "metadata": {},
   "outputs": [
    {
     "data": {
      "text/plain": [
       "<matplotlib.legend.Legend at 0x2b44e994f10>"
      ]
     },
     "execution_count": 39,
     "metadata": {},
     "output_type": "execute_result"
    },
    {
     "data": {
      "image/png": "[encoded data removed]",
      "text/plain": [
       "<Figure size 432x288 with 1 Axes>"
      ]
     },
     "metadata": {
      "needs_background": "light"
     },
     "output_type": "display_data"
    }
   ],
   "source": [
    "%matplotlib inline\n",
    "\n",
    "plt.scatter(df['YEAR'],df['JAN-FEB'],linewidth=2,label='JAN-FEB')\n",
    "#plt.plot(df['YEAR'],df['ANNUAL'],color='red',linewidth=5)\n",
    "#plt.plot(df['YEAR'],df['FEB'],color='pink',linewidth=5)\n",
    "plt.plot(df['YEAR'],df['MAR-MAY'],color='red',linewidth=2,label='MAR-MAY')\n",
    "plt.plot(df['YEAR'],df['JUN-SEP'],color='magenta',linewidth=2,label='JUN-SEP')\n",
    "plt.plot(df['YEAR'],df['OCT-DEC'],color='maroon',linewidth=2,label='OCT-DEC')\n",
    "\n",
    "plt.xlabel(\"YEARS\")\n",
    "plt.ylabel(\"JANUARY TEMP\")\n",
    "plt.title('JANUARY TEMP DATA')\n",
    "plt.legend(loc='upper left')\n"
   ]
  },
  {
   "cell_type": "code",
   "execution_count": null,
   "id": "4e8239ac",
   "metadata": {},
   "outputs": [],
   "source": []
  },
  {
   "cell_type": "code",
   "execution_count": null,
   "id": "0de1d4ad",
   "metadata": {},
   "outputs": [],
   "source": []
  }
 ],
 "metadata": {
  "kernelspec": {
   "display_name": "Python 3 (ipykernel)",
   "language": "python",
   "name": "python3"
  },
  "language_info": {
   "codemirror_mode": {
    "name": "ipython",
    "version": 3
   },
   "file_extension": ".py",
   "mimetype": "text/x-python",
   "name": "python",
   "nbconvert_exporter": "python",
   "pygments_lexer": "ipython3",
   "version": "3.9.7"
  }
 },
 "nbformat": 4,
 "nbformat_minor": 5
}
